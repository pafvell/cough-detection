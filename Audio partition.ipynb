{
 "cells": [
  {
   "cell_type": "code",
   "execution_count": 95,
   "metadata": {},
   "outputs": [],
   "source": [
    "import IPython.display as ipd\n",
    "from IPython.core.display import HTML\n",
    "import matplotlib.pyplot as plt\n",
    "import librosa\n",
    "import librosa.display\n",
    "import uuid\n",
    "import numpy as np\n",
    "from numpy import sin, cos, pi\n",
    "from math import *\n",
    "import pandas as pd\n",
    "import pylab\n",
    "import os\n",
    "from random import randint"
   ]
  },
  {
   "cell_type": "markdown",
   "metadata": {},
   "source": [
    "## To jest tekst"
   ]
  },
  {
   "cell_type": "code",
   "execution_count": 96,
   "metadata": {},
   "outputs": [],
   "source": [
    "directory = 'sounds/'\n",
    "directory_parted = 'soundsparted/'\n",
    "directory_spectograms = directory_parted + 'spectograms/'\n",
    "if not os.path.exists(directory_parted):\n",
    "    os.mkdir(directory_parted)\n",
    "if not os.path.exists(directory_spectograms):\n",
    "    os.mkdir(directory_spectograms)"
   ]
  },
  {
   "cell_type": "code",
   "execution_count": 97,
   "metadata": {},
   "outputs": [],
   "source": [
    "def convert(path, samplerate):\n",
    "    audio, sr = librosa.load(path, sr=20000)\n",
    "    print(librosa.get_duration(y=audio, sr=sr)*sr)\n",
    "    rate = int(samplerate*sr);\n",
    "    partedaudio = librosa.util.frame(audio, frame_length=rate,hop_length=rate)\n",
    "    tags  = np.genfromtxt(path[:-4], dtype='float32')\n",
    "    newtags = np.zeros((partedaudio.shape[1]), dtype=int)\n",
    "    names = np.empty((partedaudio.shape[1]), dtype=object)\n",
    "    for i in range(newtags.shape[0]):\n",
    "        names[i] = uuid.uuid4().hex\n",
    "    df = pd.DataFrame()\n",
    "    df['file'] = names\n",
    "    for i in range(0,tags.shape[0]-1):\n",
    "        for j in range(floor(tags[i][0]/samplerate),floor(tags[i][1]/samplerate)):\n",
    "            newtags[j]=1\n",
    "    print(newtags)\n",
    "    df['iscough'] = newtags\n",
    "    print(partedaudio.shape[1])\n",
    "    for i in range(partedaudio.shape[1]):\n",
    "        librosa.output.write_wav('soundsparted/'+ str(names[i]) + '.wav', partedaudio[:,i], sr)\n",
    "        spectogram = abs(librosa.stft(partedaudio[:,i]))\n",
    "        spectogram_db = librosa.amplitude_to_db(spectogram)\n",
    "        np.save('soundsparted/spectograms/'+ str(names[i]) + '.npy',spectogram_db)\n",
    "    with open('soundsparted/tags', 'a') as f:\n",
    "        df.to_csv(f, header=f.tell()==0, index = False)"
   ]
  },
  {
   "cell_type": "code",
   "execution_count": 99,
   "metadata": {},
   "outputs": [
    {
     "name": "stdout",
     "output_type": "stream",
     "text": [
      "cough1\n",
      "113641.0\n",
      "[0 0 0 0 0 1 1 1 1 1 0 0 0 1 1 1 1 1 1 0 0 0 0 0 0 0 0 0 1 1 1 1 1 1 0 0 0\n",
      " 0 0 0 0 0 0 0 0 0 0 0 0 0 0 0 0 0 0 0 0 0 0 0 1 1 1 1 1 1 1 1 1 1 1 1 0 0\n",
      " 0 0 0 0 0 0 0 0 0 0 0 0 0 0 0 0 0 0 1 1 1 1 1 1 1 1 1 1 1 1 1 0 0 0 0 0 0\n",
      " 0 0]\n",
      "113\n"
     ]
    }
   ],
   "source": [
    "for filename in os.listdir(directory):\n",
    "    if filename.endswith(\".wav\"):\n",
    "        ipd.Audio('sounds/' +filename)\n",
    "        print(filename[:-4])\n",
    "        convert(directory+filename,0.05)\n",
    "        continue\n",
    "    else:\n",
    "        continue"
   ]
  },
  {
   "cell_type": "code",
   "execution_count": null,
   "metadata": {},
   "outputs": [],
   "source": []
  }
 ],
 "metadata": {
  "kernelspec": {
   "display_name": "Python 3",
   "language": "python",
   "name": "python3"
  },
  "language_info": {
   "codemirror_mode": {
    "name": "ipython",
    "version": 3
   },
   "file_extension": ".py",
   "mimetype": "text/x-python",
   "name": "python",
   "nbconvert_exporter": "python",
   "pygments_lexer": "ipython3",
   "version": "3.7.1"
  }
 },
 "nbformat": 4,
 "nbformat_minor": 2
}
